{
 "cells": [
  {
   "cell_type": "markdown",
   "metadata": {},
   "source": [
    "### Minimum Distance Classifier"
   ]
  },
  {
   "cell_type": "code",
   "execution_count": 46,
   "metadata": {},
   "outputs": [],
   "source": [
    "import numpy as np\n",
    "from sklearn import datasets"
   ]
  },
  {
   "cell_type": "code",
   "execution_count": 47,
   "metadata": {},
   "outputs": [],
   "source": [
    "# m can take two values\n",
    "#m=np.array([40,60]) #range\n",
    "def extract_by_row(m,A):\n",
    "    m=np.asarray(m)# number\n",
    "    A=np.asarray(A)  # data set\n",
    "    shape=A.shape # get the shape of A 150x4\n",
    "    mode=m.size # find size of m to decide \n",
    "    if mode==1:\n",
    "        Ix=np.random.choice(np.arange(0,shape[0],1),m,replace=False)# Create index selecting \"m\" random numbers  \n",
    "    elif mode==2:\n",
    "        Ix=np.arange(m[0],m[1]) # create index with a specified range\n",
    "    X=A[Ix] # select elements \n",
    "    Iy=np.setdiff1d(np.arange(0,shape[0],1),Ix) # find the complementary index\n",
    "    Y=A[Iy] # select elements\n",
    "    return X,Ix,Y,Iy"
   ]
  },
  {
   "cell_type": "code",
   "execution_count": 48,
   "metadata": {},
   "outputs": [],
   "source": [
    "def classifier(A,Ia,B,Ib,targets):\n",
    "    train_targets=targets[Ia]\n",
    "    nTargets=np.unique(targets)\n",
    "    print(train_targets)"
   ]
  },
  {
   "cell_type": "code",
   "execution_count": 49,
   "metadata": {},
   "outputs": [
    {
     "name": "stdout",
     "output_type": "stream",
     "text": [
      "[2 0 0 0 0 0 1 2 1 0]\n"
     ]
    }
   ],
   "source": [
    "iris = datasets.load_iris()\n",
    "A=iris.data # data set\n",
    "targets =np.asarray(iris.target) # labels\n",
    "m=10# number     \n",
    "X,Ix,Y,Iy=extract_by_row(m,A)\n",
    "type(Ix)\n",
    "matrisConf=classifier(X,Ix,Y,Iy,targets)\n"
   ]
  }
 ],
 "metadata": {
  "kernelspec": {
   "display_name": "Python 3",
   "language": "python",
   "name": "python3"
  },
  "language_info": {
   "codemirror_mode": {
    "name": "ipython",
    "version": 3
   },
   "file_extension": ".py",
   "mimetype": "text/x-python",
   "name": "python",
   "nbconvert_exporter": "python",
   "pygments_lexer": "ipython3",
   "version": "3.6.5"
  }
 },
 "nbformat": 4,
 "nbformat_minor": 2
}
